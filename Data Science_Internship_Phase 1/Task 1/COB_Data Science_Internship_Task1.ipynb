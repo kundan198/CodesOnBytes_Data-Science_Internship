{
 "cells": [
  {
   "cell_type": "markdown",
   "metadata": {},
   "source": [
    "\n",
    "# CODES ON BYTES DATA SCIENCE INTERNSHIP - TASK 1:"
   ]
  },
  {
   "cell_type": "markdown",
   "metadata": {},
   "source": [
    "## Create a csv dataset using python , pandas and any public api"
   ]
  },
  {
   "cell_type": "markdown",
   "metadata": {},
   "source": [
    "Import modules"
   ]
  },
  {
   "cell_type": "code",
   "execution_count": 26,
   "metadata": {},
   "outputs": [],
   "source": [
    "import pandas as pd\n",
    "import requests as rq"
   ]
  },
  {
   "cell_type": "markdown",
   "metadata": {},
   "source": [
    "Data Retrival"
   ]
  },
  {
   "cell_type": "code",
   "execution_count": 27,
   "metadata": {},
   "outputs": [],
   "source": [
    "url=\"https://api.apis.guru/v2/list.json\""
   ]
  },
  {
   "cell_type": "code",
   "execution_count": 28,
   "metadata": {},
   "outputs": [
    {
     "name": "stdout",
     "output_type": "stream",
     "text": [
      "<Response [200]>\n"
     ]
    }
   ],
   "source": [
    "r=rq.get(url)\n",
    "print(r)"
   ]
  },
  {
   "cell_type": "code",
   "execution_count": 29,
   "metadata": {},
   "outputs": [],
   "source": [
    "data=r.json()"
   ]
  },
  {
   "cell_type": "code",
   "execution_count": 30,
   "metadata": {},
   "outputs": [
    {
     "data": {
      "text/html": [
       "<div>\n",
       "<style scoped>\n",
       "    .dataframe tbody tr th:only-of-type {\n",
       "        vertical-align: middle;\n",
       "    }\n",
       "\n",
       "    .dataframe tbody tr th {\n",
       "        vertical-align: top;\n",
       "    }\n",
       "\n",
       "    .dataframe thead th {\n",
       "        text-align: right;\n",
       "    }\n",
       "</style>\n",
       "<table border=\"1\" class=\"dataframe\">\n",
       "  <thead>\n",
       "    <tr style=\"text-align: right;\">\n",
       "      <th></th>\n",
       "      <th>1forge.com</th>\n",
       "      <th>1password.com:events</th>\n",
       "      <th>1password.local:connect</th>\n",
       "      <th>6-dot-authentiqio.appspot.com</th>\n",
       "      <th>ably.io:platform</th>\n",
       "      <th>ably.net:control</th>\n",
       "      <th>abstractapi.com:geolocation</th>\n",
       "      <th>adafruit.com</th>\n",
       "      <th>adobe.com:aem</th>\n",
       "      <th>adyen.com:AccountService</th>\n",
       "      <th>...</th>\n",
       "      <th>youneedabudget.com</th>\n",
       "      <th>zalando.com</th>\n",
       "      <th>zapier.com:nla</th>\n",
       "      <th>zappiti.com</th>\n",
       "      <th>zeit.co</th>\n",
       "      <th>zeno.fm</th>\n",
       "      <th>zenoti.com</th>\n",
       "      <th>zoom.us</th>\n",
       "      <th>zoomconnect.com</th>\n",
       "      <th>zuora.com</th>\n",
       "    </tr>\n",
       "  </thead>\n",
       "  <tbody>\n",
       "    <tr>\n",
       "      <th>added</th>\n",
       "      <td>2017-05-30T08:34:14.000Z</td>\n",
       "      <td>2021-07-19T10:17:09.188Z</td>\n",
       "      <td>2021-04-16T15:56:45.939Z</td>\n",
       "      <td>2017-03-15T14:45:58.000Z</td>\n",
       "      <td>2019-07-13T11:28:07.000Z</td>\n",
       "      <td>2021-07-26T09:45:31.536Z</td>\n",
       "      <td>2021-04-14T17:12:40.648Z</td>\n",
       "      <td>2018-02-10T10:41:43.000Z</td>\n",
       "      <td>2019-01-03T07:01:34.000Z</td>\n",
       "      <td>2023-02-17T11:02:20.620Z</td>\n",
       "      <td>...</td>\n",
       "      <td>2019-02-26T10:48:58.000Z</td>\n",
       "      <td>2017-09-04T15:05:43.000Z</td>\n",
       "      <td>2023-03-22T16:58:56.437Z</td>\n",
       "      <td>2017-03-24T15:09:24.000Z</td>\n",
       "      <td>2021-01-16T08:45:46.584Z</td>\n",
       "      <td>2023-02-22T17:08:56.624Z</td>\n",
       "      <td>2018-06-09T11:27:53.000Z</td>\n",
       "      <td>2018-02-02T13:43:28.000Z</td>\n",
       "      <td>2015-08-23T20:35:00.000Z</td>\n",
       "      <td>2017-12-11T13:15:36.000Z</td>\n",
       "    </tr>\n",
       "    <tr>\n",
       "      <th>preferred</th>\n",
       "      <td>0.0.1</td>\n",
       "      <td>1.0.0</td>\n",
       "      <td>1.5.7</td>\n",
       "      <td>6</td>\n",
       "      <td>1.1.0</td>\n",
       "      <td>1.0.14</td>\n",
       "      <td>1.0.0</td>\n",
       "      <td>2.0.0</td>\n",
       "      <td>3.7.1-pre.0</td>\n",
       "      <td>6</td>\n",
       "      <td>...</td>\n",
       "      <td>1.0.0</td>\n",
       "      <td>v1.0</td>\n",
       "      <td>1.0.0</td>\n",
       "      <td>4.15.174</td>\n",
       "      <td>v2019-01-07</td>\n",
       "      <td>0.6-99cfdac</td>\n",
       "      <td>1.0.0</td>\n",
       "      <td>2.0.0</td>\n",
       "      <td>1</td>\n",
       "      <td>2021-08-20</td>\n",
       "    </tr>\n",
       "    <tr>\n",
       "      <th>versions</th>\n",
       "      <td>{'0.0.1': {'added': '2017-05-30T08:34:14.000Z'...</td>\n",
       "      <td>{'1.0.0': {'added': '2021-07-19T10:17:09.188Z'...</td>\n",
       "      <td>{'1.5.7': {'added': '2021-04-16T15:56:45.939Z'...</td>\n",
       "      <td>{'6': {'added': '2017-03-15T14:45:58.000Z', 'i...</td>\n",
       "      <td>{'1.1.0': {'added': '2019-07-13T11:28:07.000Z'...</td>\n",
       "      <td>{'1.0.14': {'added': '2021-07-26T09:45:31.536Z...</td>\n",
       "      <td>{'1.0.0': {'added': '2021-04-14T17:12:40.648Z'...</td>\n",
       "      <td>{'2.0.0': {'added': '2018-02-10T10:41:43.000Z'...</td>\n",
       "      <td>{'3.7.1-pre.0': {'added': '2019-01-03T07:01:34...</td>\n",
       "      <td>{'3': {'added': '2023-02-17T11:02:20.620Z', 'i...</td>\n",
       "      <td>...</td>\n",
       "      <td>{'1.0.0': {'added': '2019-02-26T10:48:58.000Z'...</td>\n",
       "      <td>{'v1.0': {'added': '2017-09-04T15:05:43.000Z',...</td>\n",
       "      <td>{'1.0.0': {'added': '2023-03-22T16:58:56.437Z'...</td>\n",
       "      <td>{'4.15.174': {'added': '2017-03-24T15:09:24.00...</td>\n",
       "      <td>{'v2019-01-07': {'added': '2021-01-16T08:45:46...</td>\n",
       "      <td>{'0.6-99cfdac': {'added': '2023-02-22T17:08:56...</td>\n",
       "      <td>{'1.0.0': {'added': '2018-06-09T11:27:53.000Z'...</td>\n",
       "      <td>{'2.0.0': {'added': '2018-02-02T13:43:28.000Z'...</td>\n",
       "      <td>{'1': {'added': '2015-08-23T20:35:00.000Z', 'i...</td>\n",
       "      <td>{'2021-08-20': {'added': '2017-12-11T13:15:36....</td>\n",
       "    </tr>\n",
       "  </tbody>\n",
       "</table>\n",
       "<p>3 rows × 2529 columns</p>\n",
       "</div>"
      ],
      "text/plain": [
       "                                                  1forge.com  \\\n",
       "added                               2017-05-30T08:34:14.000Z   \n",
       "preferred                                              0.0.1   \n",
       "versions   {'0.0.1': {'added': '2017-05-30T08:34:14.000Z'...   \n",
       "\n",
       "                                        1password.com:events  \\\n",
       "added                               2021-07-19T10:17:09.188Z   \n",
       "preferred                                              1.0.0   \n",
       "versions   {'1.0.0': {'added': '2021-07-19T10:17:09.188Z'...   \n",
       "\n",
       "                                     1password.local:connect  \\\n",
       "added                               2021-04-16T15:56:45.939Z   \n",
       "preferred                                              1.5.7   \n",
       "versions   {'1.5.7': {'added': '2021-04-16T15:56:45.939Z'...   \n",
       "\n",
       "                               6-dot-authentiqio.appspot.com  \\\n",
       "added                               2017-03-15T14:45:58.000Z   \n",
       "preferred                                                  6   \n",
       "versions   {'6': {'added': '2017-03-15T14:45:58.000Z', 'i...   \n",
       "\n",
       "                                            ably.io:platform  \\\n",
       "added                               2019-07-13T11:28:07.000Z   \n",
       "preferred                                              1.1.0   \n",
       "versions   {'1.1.0': {'added': '2019-07-13T11:28:07.000Z'...   \n",
       "\n",
       "                                            ably.net:control  \\\n",
       "added                               2021-07-26T09:45:31.536Z   \n",
       "preferred                                             1.0.14   \n",
       "versions   {'1.0.14': {'added': '2021-07-26T09:45:31.536Z...   \n",
       "\n",
       "                                 abstractapi.com:geolocation  \\\n",
       "added                               2021-04-14T17:12:40.648Z   \n",
       "preferred                                              1.0.0   \n",
       "versions   {'1.0.0': {'added': '2021-04-14T17:12:40.648Z'...   \n",
       "\n",
       "                                                adafruit.com  \\\n",
       "added                               2018-02-10T10:41:43.000Z   \n",
       "preferred                                              2.0.0   \n",
       "versions   {'2.0.0': {'added': '2018-02-10T10:41:43.000Z'...   \n",
       "\n",
       "                                               adobe.com:aem  \\\n",
       "added                               2019-01-03T07:01:34.000Z   \n",
       "preferred                                        3.7.1-pre.0   \n",
       "versions   {'3.7.1-pre.0': {'added': '2019-01-03T07:01:34...   \n",
       "\n",
       "                                    adyen.com:AccountService  ...  \\\n",
       "added                               2023-02-17T11:02:20.620Z  ...   \n",
       "preferred                                                  6  ...   \n",
       "versions   {'3': {'added': '2023-02-17T11:02:20.620Z', 'i...  ...   \n",
       "\n",
       "                                          youneedabudget.com  \\\n",
       "added                               2019-02-26T10:48:58.000Z   \n",
       "preferred                                              1.0.0   \n",
       "versions   {'1.0.0': {'added': '2019-02-26T10:48:58.000Z'...   \n",
       "\n",
       "                                                 zalando.com  \\\n",
       "added                               2017-09-04T15:05:43.000Z   \n",
       "preferred                                               v1.0   \n",
       "versions   {'v1.0': {'added': '2017-09-04T15:05:43.000Z',...   \n",
       "\n",
       "                                              zapier.com:nla  \\\n",
       "added                               2023-03-22T16:58:56.437Z   \n",
       "preferred                                              1.0.0   \n",
       "versions   {'1.0.0': {'added': '2023-03-22T16:58:56.437Z'...   \n",
       "\n",
       "                                                 zappiti.com  \\\n",
       "added                               2017-03-24T15:09:24.000Z   \n",
       "preferred                                           4.15.174   \n",
       "versions   {'4.15.174': {'added': '2017-03-24T15:09:24.00...   \n",
       "\n",
       "                                                     zeit.co  \\\n",
       "added                               2021-01-16T08:45:46.584Z   \n",
       "preferred                                        v2019-01-07   \n",
       "versions   {'v2019-01-07': {'added': '2021-01-16T08:45:46...   \n",
       "\n",
       "                                                     zeno.fm  \\\n",
       "added                               2023-02-22T17:08:56.624Z   \n",
       "preferred                                        0.6-99cfdac   \n",
       "versions   {'0.6-99cfdac': {'added': '2023-02-22T17:08:56...   \n",
       "\n",
       "                                                  zenoti.com  \\\n",
       "added                               2018-06-09T11:27:53.000Z   \n",
       "preferred                                              1.0.0   \n",
       "versions   {'1.0.0': {'added': '2018-06-09T11:27:53.000Z'...   \n",
       "\n",
       "                                                     zoom.us  \\\n",
       "added                               2018-02-02T13:43:28.000Z   \n",
       "preferred                                              2.0.0   \n",
       "versions   {'2.0.0': {'added': '2018-02-02T13:43:28.000Z'...   \n",
       "\n",
       "                                             zoomconnect.com  \\\n",
       "added                               2015-08-23T20:35:00.000Z   \n",
       "preferred                                                  1   \n",
       "versions   {'1': {'added': '2015-08-23T20:35:00.000Z', 'i...   \n",
       "\n",
       "                                                   zuora.com  \n",
       "added                               2017-12-11T13:15:36.000Z  \n",
       "preferred                                         2021-08-20  \n",
       "versions   {'2021-08-20': {'added': '2017-12-11T13:15:36....  \n",
       "\n",
       "[3 rows x 2529 columns]"
      ]
     },
     "execution_count": 30,
     "metadata": {},
     "output_type": "execute_result"
    }
   ],
   "source": [
    "df=pd.DataFrame(data)\n",
    "df.head()"
   ]
  },
  {
   "cell_type": "markdown",
   "metadata": {},
   "source": [
    "Creating CSV"
   ]
  },
  {
   "cell_type": "code",
   "execution_count": 31,
   "metadata": {},
   "outputs": [],
   "source": [
    "sample=\"data.csv\"\n",
    "df.to_csv(sample ,index= False)"
   ]
  },
  {
   "cell_type": "code",
   "execution_count": 32,
   "metadata": {},
   "outputs": [
    {
     "data": {
      "text/html": [
       "<div>\n",
       "<style scoped>\n",
       "    .dataframe tbody tr th:only-of-type {\n",
       "        vertical-align: middle;\n",
       "    }\n",
       "\n",
       "    .dataframe tbody tr th {\n",
       "        vertical-align: top;\n",
       "    }\n",
       "\n",
       "    .dataframe thead th {\n",
       "        text-align: right;\n",
       "    }\n",
       "</style>\n",
       "<table border=\"1\" class=\"dataframe\">\n",
       "  <thead>\n",
       "    <tr style=\"text-align: right;\">\n",
       "      <th></th>\n",
       "      <th>1forge.com</th>\n",
       "      <th>1password.com:events</th>\n",
       "      <th>1password.local:connect</th>\n",
       "      <th>6-dot-authentiqio.appspot.com</th>\n",
       "      <th>ably.io:platform</th>\n",
       "      <th>ably.net:control</th>\n",
       "      <th>abstractapi.com:geolocation</th>\n",
       "      <th>adafruit.com</th>\n",
       "      <th>adobe.com:aem</th>\n",
       "      <th>adyen.com:AccountService</th>\n",
       "      <th>...</th>\n",
       "      <th>youneedabudget.com</th>\n",
       "      <th>zalando.com</th>\n",
       "      <th>zapier.com:nla</th>\n",
       "      <th>zappiti.com</th>\n",
       "      <th>zeit.co</th>\n",
       "      <th>zeno.fm</th>\n",
       "      <th>zenoti.com</th>\n",
       "      <th>zoom.us</th>\n",
       "      <th>zoomconnect.com</th>\n",
       "      <th>zuora.com</th>\n",
       "    </tr>\n",
       "  </thead>\n",
       "  <tbody>\n",
       "    <tr>\n",
       "      <th>0</th>\n",
       "      <td>2017-05-30T08:34:14.000Z</td>\n",
       "      <td>2021-07-19T10:17:09.188Z</td>\n",
       "      <td>2021-04-16T15:56:45.939Z</td>\n",
       "      <td>2017-03-15T14:45:58.000Z</td>\n",
       "      <td>2019-07-13T11:28:07.000Z</td>\n",
       "      <td>2021-07-26T09:45:31.536Z</td>\n",
       "      <td>2021-04-14T17:12:40.648Z</td>\n",
       "      <td>2018-02-10T10:41:43.000Z</td>\n",
       "      <td>2019-01-03T07:01:34.000Z</td>\n",
       "      <td>2023-02-17T11:02:20.620Z</td>\n",
       "      <td>...</td>\n",
       "      <td>2019-02-26T10:48:58.000Z</td>\n",
       "      <td>2017-09-04T15:05:43.000Z</td>\n",
       "      <td>2023-03-22T16:58:56.437Z</td>\n",
       "      <td>2017-03-24T15:09:24.000Z</td>\n",
       "      <td>2021-01-16T08:45:46.584Z</td>\n",
       "      <td>2023-02-22T17:08:56.624Z</td>\n",
       "      <td>2018-06-09T11:27:53.000Z</td>\n",
       "      <td>2018-02-02T13:43:28.000Z</td>\n",
       "      <td>2015-08-23T20:35:00.000Z</td>\n",
       "      <td>2017-12-11T13:15:36.000Z</td>\n",
       "    </tr>\n",
       "    <tr>\n",
       "      <th>1</th>\n",
       "      <td>0.0.1</td>\n",
       "      <td>1.0.0</td>\n",
       "      <td>1.5.7</td>\n",
       "      <td>6</td>\n",
       "      <td>1.1.0</td>\n",
       "      <td>1.0.14</td>\n",
       "      <td>1.0.0</td>\n",
       "      <td>2.0.0</td>\n",
       "      <td>3.7.1-pre.0</td>\n",
       "      <td>6</td>\n",
       "      <td>...</td>\n",
       "      <td>1.0.0</td>\n",
       "      <td>v1.0</td>\n",
       "      <td>1.0.0</td>\n",
       "      <td>4.15.174</td>\n",
       "      <td>v2019-01-07</td>\n",
       "      <td>0.6-99cfdac</td>\n",
       "      <td>1.0.0</td>\n",
       "      <td>2.0.0</td>\n",
       "      <td>1</td>\n",
       "      <td>2021-08-20</td>\n",
       "    </tr>\n",
       "    <tr>\n",
       "      <th>2</th>\n",
       "      <td>{'0.0.1': {'added': '2017-05-30T08:34:14.000Z'...</td>\n",
       "      <td>{'1.0.0': {'added': '2021-07-19T10:17:09.188Z'...</td>\n",
       "      <td>{'1.5.7': {'added': '2021-04-16T15:56:45.939Z'...</td>\n",
       "      <td>{'6': {'added': '2017-03-15T14:45:58.000Z', 'i...</td>\n",
       "      <td>{'1.1.0': {'added': '2019-07-13T11:28:07.000Z'...</td>\n",
       "      <td>{'1.0.14': {'added': '2021-07-26T09:45:31.536Z...</td>\n",
       "      <td>{'1.0.0': {'added': '2021-04-14T17:12:40.648Z'...</td>\n",
       "      <td>{'2.0.0': {'added': '2018-02-10T10:41:43.000Z'...</td>\n",
       "      <td>{'3.7.1-pre.0': {'added': '2019-01-03T07:01:34...</td>\n",
       "      <td>{'3': {'added': '2023-02-17T11:02:20.620Z', 'i...</td>\n",
       "      <td>...</td>\n",
       "      <td>{'1.0.0': {'added': '2019-02-26T10:48:58.000Z'...</td>\n",
       "      <td>{'v1.0': {'added': '2017-09-04T15:05:43.000Z',...</td>\n",
       "      <td>{'1.0.0': {'added': '2023-03-22T16:58:56.437Z'...</td>\n",
       "      <td>{'4.15.174': {'added': '2017-03-24T15:09:24.00...</td>\n",
       "      <td>{'v2019-01-07': {'added': '2021-01-16T08:45:46...</td>\n",
       "      <td>{'0.6-99cfdac': {'added': '2023-02-22T17:08:56...</td>\n",
       "      <td>{'1.0.0': {'added': '2018-06-09T11:27:53.000Z'...</td>\n",
       "      <td>{'2.0.0': {'added': '2018-02-02T13:43:28.000Z'...</td>\n",
       "      <td>{'1': {'added': '2015-08-23T20:35:00.000Z', 'i...</td>\n",
       "      <td>{'2021-08-20': {'added': '2017-12-11T13:15:36....</td>\n",
       "    </tr>\n",
       "  </tbody>\n",
       "</table>\n",
       "<p>3 rows × 2529 columns</p>\n",
       "</div>"
      ],
      "text/plain": [
       "                                          1forge.com  \\\n",
       "0                           2017-05-30T08:34:14.000Z   \n",
       "1                                              0.0.1   \n",
       "2  {'0.0.1': {'added': '2017-05-30T08:34:14.000Z'...   \n",
       "\n",
       "                                1password.com:events  \\\n",
       "0                           2021-07-19T10:17:09.188Z   \n",
       "1                                              1.0.0   \n",
       "2  {'1.0.0': {'added': '2021-07-19T10:17:09.188Z'...   \n",
       "\n",
       "                             1password.local:connect  \\\n",
       "0                           2021-04-16T15:56:45.939Z   \n",
       "1                                              1.5.7   \n",
       "2  {'1.5.7': {'added': '2021-04-16T15:56:45.939Z'...   \n",
       "\n",
       "                       6-dot-authentiqio.appspot.com  \\\n",
       "0                           2017-03-15T14:45:58.000Z   \n",
       "1                                                  6   \n",
       "2  {'6': {'added': '2017-03-15T14:45:58.000Z', 'i...   \n",
       "\n",
       "                                    ably.io:platform  \\\n",
       "0                           2019-07-13T11:28:07.000Z   \n",
       "1                                              1.1.0   \n",
       "2  {'1.1.0': {'added': '2019-07-13T11:28:07.000Z'...   \n",
       "\n",
       "                                    ably.net:control  \\\n",
       "0                           2021-07-26T09:45:31.536Z   \n",
       "1                                             1.0.14   \n",
       "2  {'1.0.14': {'added': '2021-07-26T09:45:31.536Z...   \n",
       "\n",
       "                         abstractapi.com:geolocation  \\\n",
       "0                           2021-04-14T17:12:40.648Z   \n",
       "1                                              1.0.0   \n",
       "2  {'1.0.0': {'added': '2021-04-14T17:12:40.648Z'...   \n",
       "\n",
       "                                        adafruit.com  \\\n",
       "0                           2018-02-10T10:41:43.000Z   \n",
       "1                                              2.0.0   \n",
       "2  {'2.0.0': {'added': '2018-02-10T10:41:43.000Z'...   \n",
       "\n",
       "                                       adobe.com:aem  \\\n",
       "0                           2019-01-03T07:01:34.000Z   \n",
       "1                                        3.7.1-pre.0   \n",
       "2  {'3.7.1-pre.0': {'added': '2019-01-03T07:01:34...   \n",
       "\n",
       "                            adyen.com:AccountService  ...  \\\n",
       "0                           2023-02-17T11:02:20.620Z  ...   \n",
       "1                                                  6  ...   \n",
       "2  {'3': {'added': '2023-02-17T11:02:20.620Z', 'i...  ...   \n",
       "\n",
       "                                  youneedabudget.com  \\\n",
       "0                           2019-02-26T10:48:58.000Z   \n",
       "1                                              1.0.0   \n",
       "2  {'1.0.0': {'added': '2019-02-26T10:48:58.000Z'...   \n",
       "\n",
       "                                         zalando.com  \\\n",
       "0                           2017-09-04T15:05:43.000Z   \n",
       "1                                               v1.0   \n",
       "2  {'v1.0': {'added': '2017-09-04T15:05:43.000Z',...   \n",
       "\n",
       "                                      zapier.com:nla  \\\n",
       "0                           2023-03-22T16:58:56.437Z   \n",
       "1                                              1.0.0   \n",
       "2  {'1.0.0': {'added': '2023-03-22T16:58:56.437Z'...   \n",
       "\n",
       "                                         zappiti.com  \\\n",
       "0                           2017-03-24T15:09:24.000Z   \n",
       "1                                           4.15.174   \n",
       "2  {'4.15.174': {'added': '2017-03-24T15:09:24.00...   \n",
       "\n",
       "                                             zeit.co  \\\n",
       "0                           2021-01-16T08:45:46.584Z   \n",
       "1                                        v2019-01-07   \n",
       "2  {'v2019-01-07': {'added': '2021-01-16T08:45:46...   \n",
       "\n",
       "                                             zeno.fm  \\\n",
       "0                           2023-02-22T17:08:56.624Z   \n",
       "1                                        0.6-99cfdac   \n",
       "2  {'0.6-99cfdac': {'added': '2023-02-22T17:08:56...   \n",
       "\n",
       "                                          zenoti.com  \\\n",
       "0                           2018-06-09T11:27:53.000Z   \n",
       "1                                              1.0.0   \n",
       "2  {'1.0.0': {'added': '2018-06-09T11:27:53.000Z'...   \n",
       "\n",
       "                                             zoom.us  \\\n",
       "0                           2018-02-02T13:43:28.000Z   \n",
       "1                                              2.0.0   \n",
       "2  {'2.0.0': {'added': '2018-02-02T13:43:28.000Z'...   \n",
       "\n",
       "                                     zoomconnect.com  \\\n",
       "0                           2015-08-23T20:35:00.000Z   \n",
       "1                                                  1   \n",
       "2  {'1': {'added': '2015-08-23T20:35:00.000Z', 'i...   \n",
       "\n",
       "                                           zuora.com  \n",
       "0                           2017-12-11T13:15:36.000Z  \n",
       "1                                         2021-08-20  \n",
       "2  {'2021-08-20': {'added': '2017-12-11T13:15:36....  \n",
       "\n",
       "[3 rows x 2529 columns]"
      ]
     },
     "execution_count": 32,
     "metadata": {},
     "output_type": "execute_result"
    }
   ],
   "source": [
    "df1=pd.read_csv(sample)\n",
    "df1.head()"
   ]
  },
  {
   "cell_type": "code",
   "execution_count": 33,
   "metadata": {},
   "outputs": [
    {
     "data": {
      "text/plain": [
       "Index(['1forge.com', '1password.com:events', '1password.local:connect',\n",
       "       '6-dot-authentiqio.appspot.com', 'ably.io:platform', 'ably.net:control',\n",
       "       'abstractapi.com:geolocation', 'adafruit.com', 'adobe.com:aem',\n",
       "       'adyen.com:AccountService',\n",
       "       ...\n",
       "       'youneedabudget.com', 'zalando.com', 'zapier.com:nla', 'zappiti.com',\n",
       "       'zeit.co', 'zeno.fm', 'zenoti.com', 'zoom.us', 'zoomconnect.com',\n",
       "       'zuora.com'],\n",
       "      dtype='object', length=2529)"
      ]
     },
     "execution_count": 33,
     "metadata": {},
     "output_type": "execute_result"
    }
   ],
   "source": [
    "df1.columns"
   ]
  },
  {
   "cell_type": "code",
   "execution_count": 34,
   "metadata": {},
   "outputs": [
    {
     "data": {
      "text/plain": [
       "(3, 2529)"
      ]
     },
     "execution_count": 34,
     "metadata": {},
     "output_type": "execute_result"
    }
   ],
   "source": [
    "df1.shape"
   ]
  },
  {
   "cell_type": "code",
   "execution_count": 35,
   "metadata": {},
   "outputs": [
    {
     "name": "stdout",
     "output_type": "stream",
     "text": [
      "<class 'pandas.core.frame.DataFrame'>\n",
      "RangeIndex: 3 entries, 0 to 2\n",
      "Columns: 2529 entries, 1forge.com to zuora.com\n",
      "dtypes: object(2529)\n",
      "memory usage: 59.4+ KB\n"
     ]
    }
   ],
   "source": [
    "df1.info()"
   ]
  },
  {
   "cell_type": "code",
   "execution_count": 36,
   "metadata": {},
   "outputs": [
    {
     "data": {
      "text/plain": [
       "1forge.com                       0\n",
       "1password.com:events             0\n",
       "1password.local:connect          0\n",
       "6-dot-authentiqio.appspot.com    0\n",
       "ably.io:platform                 0\n",
       "                                ..\n",
       "zeno.fm                          0\n",
       "zenoti.com                       0\n",
       "zoom.us                          0\n",
       "zoomconnect.com                  0\n",
       "zuora.com                        0\n",
       "Length: 2529, dtype: int64"
      ]
     },
     "execution_count": 36,
     "metadata": {},
     "output_type": "execute_result"
    }
   ],
   "source": [
    "df1.isnull().sum()"
   ]
  },
  {
   "cell_type": "code",
   "execution_count": 37,
   "metadata": {},
   "outputs": [
    {
     "name": "stdout",
     "output_type": "stream",
     "text": [
      "Task completed Successfully!!\n"
     ]
    }
   ],
   "source": [
    "print(\"Task completed Successfully!!\")"
   ]
  },
  {
   "cell_type": "markdown",
   "metadata": {},
   "source": [
    "THANK YOU!!"
   ]
  }
 ],
 "metadata": {
  "kernelspec": {
   "display_name": "Python 3",
   "language": "python",
   "name": "python3"
  },
  "language_info": {
   "codemirror_mode": {
    "name": "ipython",
    "version": 3
   },
   "file_extension": ".py",
   "mimetype": "text/x-python",
   "name": "python",
   "nbconvert_exporter": "python",
   "pygments_lexer": "ipython3",
   "version": "3.11.8"
  }
 },
 "nbformat": 4,
 "nbformat_minor": 2
}
